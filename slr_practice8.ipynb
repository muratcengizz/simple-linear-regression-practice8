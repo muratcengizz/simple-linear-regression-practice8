{
 "cells": [
  {
   "cell_type": "markdown",
   "id": "1a3d5bf7-e7a4-4338-8f30-e27144f23e03",
   "metadata": {},
   "source": [
    "# Basit Doğrusal Regresyon - Model Tuning - Model Doğrulama"
   ]
  },
  {
   "cell_type": "markdown",
   "id": "ad7d76e8-c38a-4ad3-a011-d8b399733eca",
   "metadata": {},
   "source": [
    "### Bu veri setindeki öğrenciler farklı yaşlarda ve farklı gelir seviyelerindeki ailelerden geliyorlar. Sınav puanları öğrencilerin yaş ve aile gelirleri ile ilişkili olabilir mi ? Bu soruyu cevaplamak için, basit doğrusal regresyon modeli oluşturacağız."
   ]
  },
  {
   "cell_type": "code",
   "execution_count": 69,
   "id": "d60a452f-8294-4823-a4bb-529dba8c7cde",
   "metadata": {},
   "outputs": [],
   "source": [
    "import numpy as np\n",
    "import pandas as pd\n",
    "import seaborn as sns\n",
    "from sklearn.linear_model import LinearRegression\n",
    "from sklearn.model_selection import train_test_split\n",
    "from sklearn.metrics import r2_score\n",
    "import statsmodels.api as sm\n",
    "from sklearn.preprocessing import StandardScaler"
   ]
  },
  {
   "cell_type": "code",
   "execution_count": 70,
   "id": "c5223369-48c3-479f-839a-8d85fc759345",
   "metadata": {},
   "outputs": [
    {
     "data": {
      "text/html": [
       "<div>\n",
       "<style scoped>\n",
       "    .dataframe tbody tr th:only-of-type {\n",
       "        vertical-align: middle;\n",
       "    }\n",
       "\n",
       "    .dataframe tbody tr th {\n",
       "        vertical-align: top;\n",
       "    }\n",
       "\n",
       "    .dataframe thead th {\n",
       "        text-align: right;\n",
       "    }\n",
       "</style>\n",
       "<table border=\"1\" class=\"dataframe\">\n",
       "  <thead>\n",
       "    <tr style=\"text-align: right;\">\n",
       "      <th></th>\n",
       "      <th>Age</th>\n",
       "      <th>Income</th>\n",
       "      <th>Score</th>\n",
       "    </tr>\n",
       "  </thead>\n",
       "  <tbody>\n",
       "    <tr>\n",
       "      <th>0</th>\n",
       "      <td>15</td>\n",
       "      <td>20000</td>\n",
       "      <td>45</td>\n",
       "    </tr>\n",
       "    <tr>\n",
       "      <th>1</th>\n",
       "      <td>16</td>\n",
       "      <td>30000</td>\n",
       "      <td>55</td>\n",
       "    </tr>\n",
       "    <tr>\n",
       "      <th>2</th>\n",
       "      <td>17</td>\n",
       "      <td>40000</td>\n",
       "      <td>70</td>\n",
       "    </tr>\n",
       "    <tr>\n",
       "      <th>3</th>\n",
       "      <td>18</td>\n",
       "      <td>50000</td>\n",
       "      <td>80</td>\n",
       "    </tr>\n",
       "    <tr>\n",
       "      <th>4</th>\n",
       "      <td>19</td>\n",
       "      <td>60000</td>\n",
       "      <td>90</td>\n",
       "    </tr>\n",
       "  </tbody>\n",
       "</table>\n",
       "</div>"
      ],
      "text/plain": [
       "   Age  Income  Score\n",
       "0   15   20000     45\n",
       "1   16   30000     55\n",
       "2   17   40000     70\n",
       "3   18   50000     80\n",
       "4   19   60000     90"
      ]
     },
     "execution_count": 70,
     "metadata": {},
     "output_type": "execute_result"
    }
   ],
   "source": [
    "# veri setinin oluşturulması\n",
    "\n",
    "data = pd.DataFrame({\n",
    "    'Age': [15, 16, 17, 18, 19],\n",
    "    'Income': [20000, 30000, 40000, 50000, 60000],\n",
    "    'Score': [45, 55, 70, 80, 90]\n",
    "})\n",
    "\n",
    "data.head()"
   ]
  },
  {
   "cell_type": "markdown",
   "id": "26280652-2411-4a79-848b-b5f00f2c5bbf",
   "metadata": {},
   "source": [
    "# Veri Setini Tanıma ve Analiz Etme"
   ]
  },
  {
   "cell_type": "code",
   "execution_count": 71,
   "id": "1c153723-0f98-47a1-8fa9-8bfaf1ee06bd",
   "metadata": {},
   "outputs": [
    {
     "data": {
      "text/html": [
       "<div>\n",
       "<style scoped>\n",
       "    .dataframe tbody tr th:only-of-type {\n",
       "        vertical-align: middle;\n",
       "    }\n",
       "\n",
       "    .dataframe tbody tr th {\n",
       "        vertical-align: top;\n",
       "    }\n",
       "\n",
       "    .dataframe thead th {\n",
       "        text-align: right;\n",
       "    }\n",
       "</style>\n",
       "<table border=\"1\" class=\"dataframe\">\n",
       "  <thead>\n",
       "    <tr style=\"text-align: right;\">\n",
       "      <th></th>\n",
       "      <th>count</th>\n",
       "      <th>mean</th>\n",
       "      <th>std</th>\n",
       "      <th>min</th>\n",
       "      <th>25%</th>\n",
       "      <th>50%</th>\n",
       "      <th>75%</th>\n",
       "      <th>max</th>\n",
       "    </tr>\n",
       "  </thead>\n",
       "  <tbody>\n",
       "    <tr>\n",
       "      <th>Age</th>\n",
       "      <td>5.0</td>\n",
       "      <td>17.0</td>\n",
       "      <td>1.581139</td>\n",
       "      <td>15.0</td>\n",
       "      <td>16.0</td>\n",
       "      <td>17.0</td>\n",
       "      <td>18.0</td>\n",
       "      <td>19.0</td>\n",
       "    </tr>\n",
       "    <tr>\n",
       "      <th>Income</th>\n",
       "      <td>5.0</td>\n",
       "      <td>40000.0</td>\n",
       "      <td>15811.388301</td>\n",
       "      <td>20000.0</td>\n",
       "      <td>30000.0</td>\n",
       "      <td>40000.0</td>\n",
       "      <td>50000.0</td>\n",
       "      <td>60000.0</td>\n",
       "    </tr>\n",
       "    <tr>\n",
       "      <th>Score</th>\n",
       "      <td>5.0</td>\n",
       "      <td>68.0</td>\n",
       "      <td>18.234583</td>\n",
       "      <td>45.0</td>\n",
       "      <td>55.0</td>\n",
       "      <td>70.0</td>\n",
       "      <td>80.0</td>\n",
       "      <td>90.0</td>\n",
       "    </tr>\n",
       "  </tbody>\n",
       "</table>\n",
       "</div>"
      ],
      "text/plain": [
       "        count     mean           std      min      25%      50%      75%  \\\n",
       "Age       5.0     17.0      1.581139     15.0     16.0     17.0     18.0   \n",
       "Income    5.0  40000.0  15811.388301  20000.0  30000.0  40000.0  50000.0   \n",
       "Score     5.0     68.0     18.234583     45.0     55.0     70.0     80.0   \n",
       "\n",
       "            max  \n",
       "Age        19.0  \n",
       "Income  60000.0  \n",
       "Score      90.0  "
      ]
     },
     "execution_count": 71,
     "metadata": {},
     "output_type": "execute_result"
    }
   ],
   "source": [
    "data.describe().T"
   ]
  },
  {
   "cell_type": "code",
   "execution_count": 72,
   "id": "2f18b716-ef13-4634-b5ca-ec78aa1e0555",
   "metadata": {},
   "outputs": [
    {
     "name": "stdout",
     "output_type": "stream",
     "text": [
      "<class 'pandas.core.frame.DataFrame'>\n",
      "RangeIndex: 5 entries, 0 to 4\n",
      "Data columns (total 3 columns):\n",
      " #   Column  Non-Null Count  Dtype\n",
      "---  ------  --------------  -----\n",
      " 0   Age     5 non-null      int64\n",
      " 1   Income  5 non-null      int64\n",
      " 2   Score   5 non-null      int64\n",
      "dtypes: int64(3)\n",
      "memory usage: 248.0 bytes\n"
     ]
    }
   ],
   "source": [
    "data.info()"
   ]
  },
  {
   "cell_type": "code",
   "execution_count": 73,
   "id": "46724d01-5ad5-414f-b813-2f68a22b6b2a",
   "metadata": {},
   "outputs": [
    {
     "data": {
      "image/png": "[encoded data removed]",
      "text/plain": [
       "<Figure size 540x540 with 12 Axes>"
      ]
     },
     "metadata": {
      "needs_background": "light"
     },
     "output_type": "display_data"
    }
   ],
   "source": [
    "sns.pairplot(data=data);"
   ]
  },
  {
   "cell_type": "code",
   "execution_count": 74,
   "id": "a801d441-e6b2-4e2e-b292-0668298e6573",
   "metadata": {},
   "outputs": [
    {
     "data": {
      "text/plain": [
       "Age       0\n",
       "Income    0\n",
       "Score     0\n",
       "dtype: int64"
      ]
     },
     "execution_count": 74,
     "metadata": {},
     "output_type": "execute_result"
    }
   ],
   "source": [
    "# eksik değer kontrolü.\n",
    "\n",
    "data.isnull().sum()"
   ]
  },
  {
   "cell_type": "code",
   "execution_count": 75,
   "id": "13b9995e-04d6-45cc-9fdc-8c13b5ec87c6",
   "metadata": {},
   "outputs": [
    {
     "data": {
      "image/png": "[encoded data removed]",
      "text/plain": [
       "<Figure size 432x288 with 1 Axes>"
      ]
     },
     "metadata": {
      "needs_background": "light"
     },
     "output_type": "display_data"
    }
   ],
   "source": [
    "# aykırı değer analizi.\n",
    "\n",
    "sns.boxplot(data=data, x='Score');"
   ]
  },
  {
   "cell_type": "markdown",
   "id": "e02cac29-3e16-4260-ad94-c25024a6cad1",
   "metadata": {},
   "source": [
    "#### Yukarıda veri setimize dair bilgi edinmek için 'describe()' ve 'info()' fonksiyonlarını kullandık. Veri seti içerisindeki değişkenlerin birbirleri ile olan ilişkilerini gözlemleyebilmek için 'sns.pairplot' fonksiyonunu kullandık. Eksik değerleri gözlemledik ve aykırı gözlem analizi yapmak için 'sns.boxplot' fonksiyonunu kullandık. Basit bir veri seti olduğu için bu kısımda yapılması gereken herhangi bir işlem yok."
   ]
  },
  {
   "cell_type": "code",
   "execution_count": null,
   "id": "89c4f600-6f2c-47da-8468-4f19ac2a93dc",
   "metadata": {},
   "outputs": [],
   "source": []
  },
  {
   "cell_type": "markdown",
   "id": "22c4f7db-3f86-48b0-ae74-a810e2e9aa70",
   "metadata": {},
   "source": [
    "# Hipotez Testi\n",
    "\n",
    "#### Şimdi, istatistiksel hipotez testi yapalım. Bu test, yaş ve gelirin sınav puanına etkisinin olup olmadığını kontrol etmek için kullanılabilir."
   ]
  },
  {
   "cell_type": "code",
   "execution_count": 76,
   "id": "cbb3f0a2-360c-422c-b670-d1985acb641c",
   "metadata": {},
   "outputs": [
    {
     "name": "stderr",
     "output_type": "stream",
     "text": [
      "C:\\Users\\murat\\anaconda3\\lib\\site-packages\\statsmodels\\stats\\stattools.py:74: ValueWarning: omni_normtest is not valid with less than 8 observations; 5 samples were given.\n",
      "  warn(\"omni_normtest is not valid with less than 8 observations; %i \"\n"
     ]
    },
    {
     "data": {
      "text/html": [
       "<table class=\"simpletable\">\n",
       "<caption>OLS Regression Results</caption>\n",
       "<tr>\n",
       "  <th>Dep. Variable:</th>          <td>Score</td>      <th>  R-squared:         </th> <td>   0.994</td>\n",
       "</tr>\n",
       "<tr>\n",
       "  <th>Model:</th>                   <td>OLS</td>       <th>  Adj. R-squared:    </th> <td>   0.992</td>\n",
       "</tr>\n",
       "<tr>\n",
       "  <th>Method:</th>             <td>Least Squares</td>  <th>  F-statistic:       </th> <td>   529.0</td>\n",
       "</tr>\n",
       "<tr>\n",
       "  <th>Date:</th>             <td>Wed, 22 Mar 2023</td> <th>  Prob (F-statistic):</th> <td>0.000180</td>\n",
       "</tr>\n",
       "<tr>\n",
       "  <th>Time:</th>                 <td>14:48:09</td>     <th>  Log-Likelihood:    </th> <td> -8.1084</td>\n",
       "</tr>\n",
       "<tr>\n",
       "  <th>No. Observations:</th>      <td>     5</td>      <th>  AIC:               </th> <td>   20.22</td>\n",
       "</tr>\n",
       "<tr>\n",
       "  <th>Df Residuals:</th>          <td>     3</td>      <th>  BIC:               </th> <td>   19.44</td>\n",
       "</tr>\n",
       "<tr>\n",
       "  <th>Df Model:</th>              <td>     1</td>      <th>                     </th>     <td> </td>   \n",
       "</tr>\n",
       "<tr>\n",
       "  <th>Covariance Type:</th>      <td>nonrobust</td>    <th>                     </th>     <td> </td>   \n",
       "</tr>\n",
       "</table>\n",
       "<table class=\"simpletable\">\n",
       "<tr>\n",
       "     <td></td>       <th>coef</th>     <th>std err</th>      <th>t</th>      <th>P>|t|</th>  <th>[0.025</th>    <th>0.975]</th>  \n",
       "</tr>\n",
       "<tr>\n",
       "  <th>const</th>  <td>    0.1294</td> <td>    0.012</td> <td>   10.371</td> <td> 0.002</td> <td>    0.090</td> <td>    0.169</td>\n",
       "</tr>\n",
       "<tr>\n",
       "  <th>Age</th>    <td>    1.6824</td> <td>    0.162</td> <td>   10.371</td> <td> 0.002</td> <td>    1.166</td> <td>    2.199</td>\n",
       "</tr>\n",
       "<tr>\n",
       "  <th>Income</th> <td>    0.0010</td> <td> 6.55e-05</td> <td>   14.985</td> <td> 0.001</td> <td>    0.001</td> <td>    0.001</td>\n",
       "</tr>\n",
       "</table>\n",
       "<table class=\"simpletable\">\n",
       "<tr>\n",
       "  <th>Omnibus:</th>       <td>   nan</td> <th>  Durbin-Watson:     </th> <td>   2.533</td>\n",
       "</tr>\n",
       "<tr>\n",
       "  <th>Prob(Omnibus):</th> <td>   nan</td> <th>  Jarque-Bera (JB):  </th> <td>   0.361</td>\n",
       "</tr>\n",
       "<tr>\n",
       "  <th>Skew:</th>          <td> 0.408</td> <th>  Prob(JB):          </th> <td>   0.835</td>\n",
       "</tr>\n",
       "<tr>\n",
       "  <th>Kurtosis:</th>      <td> 1.967</td> <th>  Cond. No.          </th> <td>1.45e+21</td>\n",
       "</tr>\n",
       "</table><br/><br/>Notes:<br/>[1] Standard Errors assume that the covariance matrix of the errors is correctly specified.<br/>[2] The smallest eigenvalue is 4.29e-33. This might indicate that there are<br/>strong multicollinearity problems or that the design matrix is singular."
      ],
      "text/plain": [
       "<class 'statsmodels.iolib.summary.Summary'>\n",
       "\"\"\"\n",
       "                            OLS Regression Results                            \n",
       "==============================================================================\n",
       "Dep. Variable:                  Score   R-squared:                       0.994\n",
       "Model:                            OLS   Adj. R-squared:                  0.992\n",
       "Method:                 Least Squares   F-statistic:                     529.0\n",
       "Date:                Wed, 22 Mar 2023   Prob (F-statistic):           0.000180\n",
       "Time:                        14:48:09   Log-Likelihood:                -8.1084\n",
       "No. Observations:                   5   AIC:                             20.22\n",
       "Df Residuals:                       3   BIC:                             19.44\n",
       "Df Model:                           1                                         \n",
       "Covariance Type:            nonrobust                                         \n",
       "==============================================================================\n",
       "                 coef    std err          t      P>|t|      [0.025      0.975]\n",
       "------------------------------------------------------------------------------\n",
       "const          0.1294      0.012     10.371      0.002       0.090       0.169\n",
       "Age            1.6824      0.162     10.371      0.002       1.166       2.199\n",
       "Income         0.0010   6.55e-05     14.985      0.001       0.001       0.001\n",
       "==============================================================================\n",
       "Omnibus:                          nan   Durbin-Watson:                   2.533\n",
       "Prob(Omnibus):                    nan   Jarque-Bera (JB):                0.361\n",
       "Skew:                           0.408   Prob(JB):                        0.835\n",
       "Kurtosis:                       1.967   Cond. No.                     1.45e+21\n",
       "==============================================================================\n",
       "\n",
       "Notes:\n",
       "[1] Standard Errors assume that the covariance matrix of the errors is correctly specified.\n",
       "[2] The smallest eigenvalue is 4.29e-33. This might indicate that there are\n",
       "strong multicollinearity problems or that the design matrix is singular.\n",
       "\"\"\""
      ]
     },
     "execution_count": 76,
     "metadata": {},
     "output_type": "execute_result"
    }
   ],
   "source": [
    "# bağımlı ve bağımsız değişkenlerimizi oluşturalım.\n",
    "\n",
    "X = data[['Age', 'Income']]\n",
    "y = data['Score']\n",
    "\n",
    "X = sm.add_constant(X)\n",
    "\n",
    "model = sm.OLS(y, X).fit()\n",
    "\n",
    "model.summary()"
   ]
  },
  {
   "cell_type": "markdown",
   "id": "85510dcd-ab79-4fc9-bad1-315237d3e0d8",
   "metadata": {},
   "source": [
    "### OLS regresyon, bağımsız değişkenlerin bağımlı değişkeni en iyi şekilde açıklayabilmesi için matematiksel bir formül bulmayı amaçlar. Özetinde istatistiksel terimleri barındırır. Ve bilimsel olarak model ve değişkenler hakkında bize bilgi verir. R-kare değeri, f-istatistik değeri, katsayılar, sabit, p-value değeri gibi hayati öneme sahip verileri gözlemleme şansını elde ederiz.\n",
    "\n",
    "### Model özetinde, yaşın ve gelirin sınav puanına etkisinin olduğu görülür. Yaşın sınav puanına etkisi, gelirden daha düşüktür."
   ]
  },
  {
   "cell_type": "markdown",
   "id": "599464f3-3918-4dfe-b50e-cf11f666b369",
   "metadata": {},
   "source": [
    "# Model Tuning ve Model Doğrulama İşlemleri"
   ]
  },
  {
   "cell_type": "markdown",
   "id": "14f4231b-94b0-41bb-84f7-a4fface492aa",
   "metadata": {},
   "source": [
    "#### Model tuning, modelimizin hiperparametrelerini ayarlamak için kullanılır. Basit doğrusal regresyon modeli için bir hiperparametre yoktur, ancak öğrencinin yaş ve gelir değerleri gibi girdi değişkenlerini normalleştirerek model performansını arttırabiliriz. Bu normalizasyon işlemi, verilerimizdeki değişkenler arasındaki ölçek farklılıklarını azaltarak, modelin daha iyi genelleştirilmesine yardımcı olabilir."
   ]
  },
  {
   "cell_type": "code",
   "execution_count": 85,
   "id": "15b686d7-0008-4773-b86d-f444accadd49",
   "metadata": {},
   "outputs": [],
   "source": [
    "# normalizasyon modelini oluşturma ve eğitme.\n",
    "scaler = StandardScaler()\n",
    "X = scaler.fit_transform(X)"
   ]
  },
  {
   "cell_type": "markdown",
   "id": "23cb11a6-7192-4615-889e-cff1d10f2084",
   "metadata": {},
   "source": [
    "#### Model doğrulama işlemi, modelimizin gerçek dünya verilerinde nasıl performans gösterdiğini kontrol etmek için kullanılır. Bu işlem için, veri setimizi eğitim ve test verisi olarak ayırmamız gerekiyor. Eğitim verisi, modelimizi öğrenmek için kullanılacak verileri içerirken, test verisi modelimizin doğruluğunu kontrol etmek için kullanılacak verileri içerir. Veri setimiz küçük olduğu için, verilerin %70 'ini eğitim verisi, %30 'sini test verisi olarak ayırabiliriz."
   ]
  },
  {
   "cell_type": "code",
   "execution_count": 78,
   "id": "1b9f3dea-c26a-4bd9-88f3-e113dda0fa5e",
   "metadata": {},
   "outputs": [],
   "source": [
    "X_train, X_test, y_train, y_test = train_test_split(X, y, test_size=0.30, random_state=0)"
   ]
  },
  {
   "cell_type": "code",
   "execution_count": 79,
   "id": "4dcf8712-e227-4a72-bf26-84b3009dee95",
   "metadata": {},
   "outputs": [
    {
     "data": {
      "text/plain": [
       "LinearRegression()"
      ]
     },
     "execution_count": 79,
     "metadata": {},
     "output_type": "execute_result"
    }
   ],
   "source": [
    "# model oluşturma ve eğitme\n",
    "\n",
    "model = LinearRegression()\n",
    "model.fit(X_train, y_train)"
   ]
  },
  {
   "cell_type": "code",
   "execution_count": 80,
   "id": "430ff676-03e7-4de6-8d4f-f005b6c44ad6",
   "metadata": {},
   "outputs": [],
   "source": [
    "# tahmin.\n",
    "y_pred = model.predict(X_test)"
   ]
  },
  {
   "cell_type": "code",
   "execution_count": 81,
   "id": "3d7950b8-87c0-4661-8b2d-dfe33a0aa620",
   "metadata": {},
   "outputs": [
    {
     "name": "stdout",
     "output_type": "stream",
     "text": [
      "R-kare değeri:  0.9673469387755101\n"
     ]
    }
   ],
   "source": [
    "# modelin doğruluğunu test verisi üzerinde test etme.\n",
    "r2 = r2_score(y_test, y_pred)\n",
    "print('R-kare değeri: ', r2)"
   ]
  },
  {
   "cell_type": "markdown",
   "id": "745d4260-16ab-4585-9eff-cdb927188fff",
   "metadata": {},
   "source": [
    "### R-kare değerine bakarak, bağımsız değişkenlerimizin bağımlı değişkeni başarılı bir şekilde açıklayabildiğini söyleyebiliriz."
   ]
  },
  {
   "cell_type": "code",
   "execution_count": 83,
   "id": "46f7c350-79dd-4291-bd0d-7627b3e5f23f",
   "metadata": {},
   "outputs": [
    {
     "data": {
      "text/html": [
       "<div>\n",
       "<style scoped>\n",
       "    .dataframe tbody tr th:only-of-type {\n",
       "        vertical-align: middle;\n",
       "    }\n",
       "\n",
       "    .dataframe tbody tr th {\n",
       "        vertical-align: top;\n",
       "    }\n",
       "\n",
       "    .dataframe thead th {\n",
       "        text-align: right;\n",
       "    }\n",
       "</style>\n",
       "<table border=\"1\" class=\"dataframe\">\n",
       "  <thead>\n",
       "    <tr style=\"text-align: right;\">\n",
       "      <th></th>\n",
       "      <th>Gerçek Değerler</th>\n",
       "      <th>Tahmin Değerleri</th>\n",
       "    </tr>\n",
       "  </thead>\n",
       "  <tbody>\n",
       "    <tr>\n",
       "      <th>2</th>\n",
       "      <td>70</td>\n",
       "      <td>67.142857</td>\n",
       "    </tr>\n",
       "    <tr>\n",
       "      <th>0</th>\n",
       "      <td>45</td>\n",
       "      <td>43.571429</td>\n",
       "    </tr>\n",
       "  </tbody>\n",
       "</table>\n",
       "</div>"
      ],
      "text/plain": [
       "   Gerçek Değerler  Tahmin Değerleri\n",
       "2               70         67.142857\n",
       "0               45         43.571429"
      ]
     },
     "execution_count": 83,
     "metadata": {},
     "output_type": "execute_result"
    }
   ],
   "source": [
    "df = pd.DataFrame({\n",
    "    'Gerçek Değerler': y_test,\n",
    "    'Tahmin Değerleri': y_pred[0:2]\n",
    "})\n",
    "\n",
    "df"
   ]
  }
 ],
 "metadata": {
  "kernelspec": {
   "display_name": "Python 3 (ipykernel)",
   "language": "python",
   "name": "python3"
  },
  "language_info": {
   "codemirror_mode": {
    "name": "ipython",
    "version": 3
   },
   "file_extension": ".py",
   "mimetype": "text/x-python",
   "name": "python",
   "nbconvert_exporter": "python",
   "pygments_lexer": "ipython3",
   "version": "3.9.12"
  }
 },
 "nbformat": 4,
 "nbformat_minor": 5
}
